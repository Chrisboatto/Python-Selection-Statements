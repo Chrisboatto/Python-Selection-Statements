{
 "cells": [
  {
   "cell_type": "markdown",
   "metadata": {},
   "source": [
    "                                CIND830\n",
    "                    Python Programming for Data Science\n",
    "                            Lab 3 - Questions\n",
    "a. Write the corresponding Python relational expression along with the expected output for the\n",
    "following inequalities. Then, use the print() function to verify your expectations.\n"
   ]
  },
  {
   "cell_type": "markdown",
   "metadata": {},
   "source": [
    "i. x < 1\n",
    "2 ; x = 1\n",
    "2"
   ]
  },
  {
   "cell_type": "code",
   "execution_count": 2,
   "metadata": {},
   "outputs": [
    {
     "name": "stdout",
     "output_type": "stream",
     "text": [
      "True\n"
     ]
    }
   ],
   "source": [
    "x = 1/2\n",
    "print(x == 1/2)"
   ]
  },
  {
   "cell_type": "markdown",
   "metadata": {},
   "source": [
    "ii. 4 ≤ 4\n",
    "x 4"
   ]
  },
  {
   "cell_type": "code",
   "execution_count": 4,
   "metadata": {},
   "outputs": [
    {
     "name": "stdout",
     "output_type": "stream",
     "text": [
      "True\n"
     ]
    }
   ],
   "source": [
    "x = 5\n",
    "print(4 <= 4/(x-4))"
   ]
  },
  {
   "cell_type": "markdown",
   "metadata": {},
   "source": [
    "iii. ln(x) < (x � 2)4 ; x = 1, ln(x) is the natural logarithm of x (to base e)"
   ]
  },
  {
   "cell_type": "code",
   "execution_count": 5,
   "metadata": {},
   "outputs": [
    {
     "name": "stdout",
     "output_type": "stream",
     "text": [
      "True\n"
     ]
    }
   ],
   "source": [
    "import math as m\n",
    "x = 1\n",
    "# y = math.log(6)\n",
    "print(m.log(x) < (x-4)**4)"
   ]
  },
  {
   "cell_type": "markdown",
   "metadata": {},
   "source": [
    "iv. x ≥ y ; x = 2, y is missing"
   ]
  },
  {
   "cell_type": "code",
   "execution_count": 1,
   "metadata": {},
   "outputs": [
    {
     "ename": "TypeError",
     "evalue": "'>=' not supported between instances of 'int' and 'NoneType'",
     "output_type": "error",
     "traceback": [
      "\u001b[0;31m---------------------------------------------------------------------------\u001b[0m",
      "\u001b[0;31mTypeError\u001b[0m                                 Traceback (most recent call last)",
      "\u001b[0;32m<ipython-input-1-4baa8a9b3d6f>\u001b[0m in \u001b[0;36m<module>\u001b[0;34m\u001b[0m\n\u001b[1;32m      1\u001b[0m \u001b[0mx\u001b[0m \u001b[0;34m=\u001b[0m \u001b[0;36m2\u001b[0m\u001b[0;34m\u001b[0m\u001b[0;34m\u001b[0m\u001b[0m\n\u001b[1;32m      2\u001b[0m \u001b[0my\u001b[0m \u001b[0;34m=\u001b[0m \u001b[0;32mNone\u001b[0m\u001b[0;34m\u001b[0m\u001b[0;34m\u001b[0m\u001b[0m\n\u001b[0;32m----> 3\u001b[0;31m \u001b[0mprint\u001b[0m\u001b[0;34m(\u001b[0m\u001b[0mx\u001b[0m \u001b[0;34m>=\u001b[0m \u001b[0my\u001b[0m\u001b[0;34m)\u001b[0m\u001b[0;34m\u001b[0m\u001b[0;34m\u001b[0m\u001b[0m\n\u001b[0m",
      "\u001b[0;31mTypeError\u001b[0m: '>=' not supported between instances of 'int' and 'NoneType'"
     ]
    }
   ],
   "source": [
    "x = 2\n",
    "y = None\n",
    "print(x >= y)"
   ]
  },
  {
   "cell_type": "markdown",
   "metadata": {},
   "source": [
    "b. Write the corresponding Python logical expression along with the expected output for the\n",
    "following compound inequalities. Then, use the print() function to verify your expectations."
   ]
  },
  {
   "cell_type": "markdown",
   "metadata": {},
   "source": [
    "i. 2 < x ≤ 4 ; x = 3"
   ]
  },
  {
   "cell_type": "code",
   "execution_count": 7,
   "metadata": {},
   "outputs": [
    {
     "name": "stdout",
     "output_type": "stream",
     "text": [
      "True\n"
     ]
    }
   ],
   "source": [
    "x = 3\n",
    "print(2 < x <= 4)"
   ]
  },
  {
   "cell_type": "markdown",
   "metadata": {},
   "source": [
    "ii. x < 3 and y ≥ 1 ; x = 2, y ≥ 1 is missing"
   ]
  },
  {
   "cell_type": "code",
   "execution_count": 4,
   "metadata": {},
   "outputs": [
    {
     "name": "stdout",
     "output_type": "stream",
     "text": [
      "False\n",
      "None\n"
     ]
    }
   ],
   "source": [
    "x = 7\n",
    "y = None\n",
    "print(x < 3 and None)\n",
    "print(None and x<1)"
   ]
  },
  {
   "cell_type": "markdown",
   "metadata": {},
   "source": [
    "iii. x < 3 or y ≥ 1 ; x = 2, y ≥ 1 is missing"
   ]
  },
  {
   "cell_type": "code",
   "execution_count": 8,
   "metadata": {},
   "outputs": [
    {
     "name": "stdout",
     "output_type": "stream",
     "text": [
      "True\n"
     ]
    }
   ],
   "source": [
    "x = 2\n",
    "y = 5\n",
    "print(x < 3 or y < 4 and None)"
   ]
  },
  {
   "cell_type": "markdown",
   "metadata": {},
   "source": [
    "iv. x ≤ y or y < w and w < x ; x = y = 2, w = 4"
   ]
  },
  {
   "cell_type": "code",
   "execution_count": 11,
   "metadata": {},
   "outputs": [
    {
     "name": "stdout",
     "output_type": "stream",
     "text": [
      "True\n"
     ]
    }
   ],
   "source": [
    "y = 2\n",
    "x = y\n",
    "w = 4\n",
    "print(x <= y or y < w and w < x)"
   ]
  },
  {
   "cell_type": "markdown",
   "metadata": {},
   "source": [
    "2 Types of Selection Statements"
   ]
  },
  {
   "cell_type": "markdown",
   "metadata": {},
   "source": [
    "a. Use the one-way selection statements to write a Python program that reads a numeric grade,\n",
    "then displays whether it is a passing or failing grade. Hint: The following control-flow chart\n",
    "might be of help."
   ]
  },
  {
   "cell_type": "code",
   "execution_count": 14,
   "metadata": {},
   "outputs": [
    {
     "name": "stdin",
     "output_type": "stream",
     "text": [
      "Enter the numeric grade\n",
      " 60\n"
     ]
    },
    {
     "name": "stdout",
     "output_type": "stream",
     "text": [
      "Pass\n"
     ]
    }
   ],
   "source": [
    "numericGrade = float(input(\"Enter the numeric grade\\n\"))\n",
    "if numericGrade >= 50:\n",
    "    print('Pass')\n",
    "if numericGrade < 50:\n",
    "    print('Fail')"
   ]
  },
  {
   "cell_type": "markdown",
   "metadata": {},
   "source": [
    "b. Modify the structure of the program in 2a to give the same output, using the two-way rather\n",
    "than one-way selection statements. Hint: The following control-flow chart might be of help."
   ]
  },
  {
   "cell_type": "code",
   "execution_count": 16,
   "metadata": {},
   "outputs": [
    {
     "name": "stdin",
     "output_type": "stream",
     "text": [
      "Enter the numeric grade\n",
      " 75\n"
     ]
    },
    {
     "name": "stdout",
     "output_type": "stream",
     "text": [
      "Pass\n"
     ]
    }
   ],
   "source": [
    "numericGrade = float(input(\"Enter the numeric grade\\n\"))\n",
    "if numericGrade >= 50:\n",
    "    print('Pass')\n",
    "else:\n",
    "    print('Fail')"
   ]
  },
  {
   "cell_type": "markdown",
   "metadata": {},
   "source": [
    "c. Use the multi-way selection statements to write a Python program that reads a numeric grade\n",
    "from a user and returns an output based on the following chart."
   ]
  },
  {
   "cell_type": "code",
   "execution_count": 18,
   "metadata": {},
   "outputs": [
    {
     "name": "stdin",
     "output_type": "stream",
     "text": [
      "Enter the numeric grade\n",
      " 90\n"
     ]
    },
    {
     "name": "stdout",
     "output_type": "stream",
     "text": [
      "Excellent\n"
     ]
    }
   ],
   "source": [
    "numericGrade = float(input(\"Enter the numeric grade\\n\"))\n",
    "if numericGrade >= 80:\n",
    "    print('Excellent')\n",
    "elif numericGrade >= 70:\n",
    "    print('Good')\n",
    "elif numericGrade >= 60:\n",
    "    print('Satisfactory')\n",
    "elif numericGrade >=50:\n",
    "    print('Marginal')\n",
    "else:\n",
    "    print('Disatisfactory')"
   ]
  },
  {
   "cell_type": "markdown",
   "metadata": {},
   "source": [
    "d. Write the code of a Python program after designing its control-flow chart to read two positive\n",
    "numbers from the user. Those numbers represent the width and length of a two-dimensional\n",
    "shape. The program should display whether the shape is a rectangle or a square based on the\n",
    "equality of the length and width values. Also, design the program, so it prints the area and\n",
    "the perimeter of the shape."
   ]
  },
  {
   "cell_type": "code",
   "execution_count": 21,
   "metadata": {},
   "outputs": [
    {
     "name": "stdin",
     "output_type": "stream",
     "text": [
      "Enter the length in centimeters:\t 20\n",
      "Enter the width in centimeters:\t 20\n"
     ]
    },
    {
     "name": "stdout",
     "output_type": "stream",
     "text": [
      "The shape is probably a square\n",
      "The area of the shape is: 400.0\n",
      "The perimeter of the shape is: 80.0\n"
     ]
    }
   ],
   "source": [
    "iLength = float(input(\"Enter the length in centimeters:\\t\"))\n",
    "iWidth = float(input(\"Enter the width in centimeters:\\t\"))\n",
    "if iLength > 0 and iWidth > 0:\n",
    "    if iLength != iWidth:\n",
    "        print(\"The shape is progably a rectangle\")\n",
    "        iShape = 'rectangle'\n",
    "    else:\n",
    "        print(\"The shape is probably a square\")\n",
    "        iShape = \"square\"\n",
    "else:\n",
    "    print(\"Please enter a positive number\")\n",
    "print(\"The area of the shape is:\", (iLength * iWidth))\n",
    "print(\"The perimeter of the shape is:\", (iLength * 2 + iWidth * 2))"
   ]
  }
 ],
 "metadata": {
  "kernelspec": {
   "display_name": "Python 3",
   "language": "python",
   "name": "python3"
  },
  "language_info": {
   "codemirror_mode": {
    "name": "ipython",
    "version": 3
   },
   "file_extension": ".py",
   "mimetype": "text/x-python",
   "name": "python",
   "nbconvert_exporter": "python",
   "pygments_lexer": "ipython3",
   "version": "3.7.6"
  }
 },
 "nbformat": 4,
 "nbformat_minor": 4
}
